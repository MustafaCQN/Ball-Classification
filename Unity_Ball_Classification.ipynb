{
  "cells": [
    {
      "cell_type": "code",
      "execution_count": null,
      "metadata": {
        "id": "uNAMU1x6BsiF"
      },
      "outputs": [],
      "source": [
        "import tensorflow as tf\n",
        "from tensorflow.keras.preprocessing.image import ImageDataGenerator\n",
        "import numpy as np"
      ]
    },
    {
      "cell_type": "code",
      "execution_count": 1,
      "metadata": {
        "colab": {
          "base_uri": "https://localhost:8080/"
        },
        "id": "EY2q90PxULrf",
        "outputId": "c324dbeb-f26c-4ffe-be41-c5caa8475d29"
      },
      "outputs": [
        {
          "name": "stdout",
          "output_type": "stream",
          "text": [
            "Drive already mounted at /content/drive; to attempt to forcibly remount, call drive.mount(\"/content/drive\", force_remount=True).\n"
          ]
        }
      ],
      "source": [
        "from google.colab import drive\n",
        "drive.mount('/content/drive')"
      ]
    },
    {
      "cell_type": "code",
      "execution_count": null,
      "metadata": {
        "id": "_AxHvF-KBvkn"
      },
      "outputs": [],
      "source": [
        "data_train_path=\"/content/drive/MyDrive/AI-datasets/Ball/BallData/train\"\n",
        "data_test_path=\"/content/drive/MyDrive/AI-datasets/Ball/BallData/test\"\n",
        "\n",
        "batch_size=4\n",
        "img_size=224\n",
        "optimizer=tf.keras.optimizers.Adam(learning_rate = 0.01,decay = 1e-4)\n",
        "loss=\"categorical_crossentropy\"\n",
        "epochs=10\n",
        "onnx_path=\"/content/drive/MyDrive/AI-datasets/Ball/BallData/Onnx/model.onnx\"\n"
      ]
    },
    {
      "cell_type": "code",
      "execution_count": null,
      "metadata": {
        "colab": {
          "base_uri": "https://localhost:8080/"
        },
        "id": "QMMqDfbDBy0w",
        "outputId": "0a3b0621-8d71-4eb8-9d78-445147b14c3e"
      },
      "outputs": [
        {
          "name": "stdout",
          "output_type": "stream",
          "text": [
            "Found 172 images belonging to 2 classes.\n",
            "Found 10 images belonging to 2 classes.\n"
          ]
        }
      ],
      "source": [
        "image_generator_test = ImageDataGenerator()    \n",
        "data_train = image_generator_test.flow_from_directory(batch_size=batch_size,\n",
        "                                                  directory=data_train_path,\n",
        "                                                  shuffle=True,\n",
        "                                                  target_size=(img_size, img_size), \n",
        "                                                  class_mode='categorical'\n",
        "  \n",
        "                                                  )\n",
        "data_test = image_generator_test.flow_from_directory(batch_size=batch_size,\n",
        "                                                  directory=data_test_path,\n",
        "                                                  shuffle=True,\n",
        "                                                  target_size=(img_size, img_size), \n",
        "                                                  class_mode='categorical'\n",
        "  \n",
        "                                                  )"
      ]
    },
    {
      "cell_type": "code",
      "execution_count": null,
      "metadata": {
        "colab": {
          "base_uri": "https://localhost:8080/"
        },
        "id": "EWdl-czCB0HI",
        "outputId": "4ee717b1-839b-4a2d-ab8a-e6261bc29a9a"
      },
      "outputs": [
        {
          "name": "stdout",
          "output_type": "stream",
          "text": [
            "Train Data {'colored_beachball': 0, 'football': 1}\n",
            "Test Data {'colored_beachball': 0, 'football': 1}\n"
          ]
        }
      ],
      "source": [
        "print(\"Train Data\",data_train.class_indices)\n",
        "print(\"Test Data\",data_test.class_indices)\n",
        "\n"
      ]
    },
    {
      "cell_type": "code",
      "execution_count": null,
      "metadata": {
        "colab": {
          "base_uri": "https://localhost:8080/"
        },
        "id": "PuRWPlwAB0_m",
        "outputId": "bb604939-2f10-4328-9f56-919b83111e25"
      },
      "outputs": [
        {
          "name": "stdout",
          "output_type": "stream",
          "text": [
            "Downloading data from https://storage.googleapis.com/tensorflow/keras-applications/vgg16/vgg16_weights_tf_dim_ordering_tf_kernels_notop.h5\n",
            "58889256/58889256 [==============================] - 0s 0us/step\n",
            "Model: \"model\"\n",
            "_________________________________________________________________\n",
            " Layer (type)                Output Shape              Param #   \n",
            "=================================================================\n",
            " input_2 (InputLayer)        [(None, 224, 224, 3)]     0         \n",
            "                                                                 \n",
            " rescaling (Rescaling)       (None, 224, 224, 3)       0         \n",
            "                                                                 \n",
            " vgg16 (Functional)          (None, None, None, 512)   14714688  \n",
            "                                                                 \n",
            " global_max_pooling2d (Globa  (None, 512)              0         \n",
            " lMaxPooling2D)                                                  \n",
            "                                                                 \n",
            " dense (Dense)               (None, 128)               65664     \n",
            "                                                                 \n",
            " dropout (Dropout)           (None, 128)               0         \n",
            "                                                                 \n",
            " dense_1 (Dense)             (None, 2)                 258       \n",
            "                                                                 \n",
            "=================================================================\n",
            "Total params: 14,780,610\n",
            "Trainable params: 65,922\n",
            "Non-trainable params: 14,714,688\n",
            "_________________________________________________________________\n"
          ]
        }
      ],
      "source": [
        "vgg=tf.keras.applications.VGG16(\n",
        "        include_top=False,\n",
        "        weights=\"imagenet\",\n",
        "        classes=4,\n",
        "    )\n",
        "\n",
        "vgg.trainable=False\n",
        "inputs=tf.keras.layers.Input(shape=(img_size,img_size,3))\n",
        "x=tf.keras.layers.Rescaling(scale=1./255.)(inputs)\n",
        "x=vgg(x)\n",
        "x=tf.keras.layers.GlobalMaxPool2D()(x)\n",
        "x=tf.keras.layers.Dense(128,activation=\"relu\")(x)\n",
        "x=tf.keras.layers.Dropout(0.25)(x)\n",
        "x=tf.keras.layers.Dense(len(data_train.class_indices),activation=\"softmax\")(x)\n",
        "model=tf.keras.Model(inputs=inputs,outputs=x)\n",
        "model.summary()\n",
        "\n",
        "model.compile(optimizer =optimizer,loss = loss,  metrics = [\"accuracy\"])\n"
      ]
    },
    {
      "cell_type": "code",
      "execution_count": null,
      "metadata": {
        "id": "1BU9WmyBB2bs"
      },
      "outputs": [],
      "source": [
        "callbacks=[]\n",
        "callbacks.append(tf.keras.callbacks.ReduceLROnPlateau(monitor = 'loss',factor = 0.1,patience = 2,min=1e-6,verbose=1))\n",
        "callbacks.append(tf.keras.callbacks.EarlyStopping(monitor=\"loss\",patience=4,restore_best_weights=True))"
      ]
    },
    {
      "cell_type": "code",
      "execution_count": null,
      "metadata": {
        "colab": {
          "base_uri": "https://localhost:8080/"
        },
        "id": "SfMD8yHeB3ba",
        "outputId": "e3b6291b-e964-4497-de53-3793833fc80f"
      },
      "outputs": [
        {
          "name": "stdout",
          "output_type": "stream",
          "text": [
            "Epoch 1/10\n",
            "36/43 [========================>.....] - ETA: 17s - loss: 1.3423 - accuracy: 0.7778"
          ]
        },
        {
          "name": "stderr",
          "output_type": "stream",
          "text": [
            "/usr/local/lib/python3.8/dist-packages/PIL/Image.py:959: UserWarning: Palette images with Transparency expressed in bytes should be converted to RGBA images\n",
            "  warnings.warn(\n"
          ]
        },
        {
          "name": "stdout",
          "output_type": "stream",
          "text": [
            "43/43 [==============================] - 119s 3s/step - loss: 1.1741 - accuracy: 0.8023 - val_loss: 0.0018 - val_accuracy: 1.0000 - lr: 0.0100\n",
            "Epoch 2/10\n",
            "43/43 [==============================] - 117s 3s/step - loss: 0.2446 - accuracy: 0.9302 - val_loss: 0.0304 - val_accuracy: 1.0000 - lr: 0.0100\n",
            "Epoch 3/10\n",
            "43/43 [==============================] - 109s 3s/step - loss: 0.1294 - accuracy: 0.9767 - val_loss: 0.0108 - val_accuracy: 1.0000 - lr: 0.0100\n",
            "Epoch 4/10\n",
            "43/43 [==============================] - 112s 3s/step - loss: 0.0290 - accuracy: 0.9942 - val_loss: 0.0022 - val_accuracy: 1.0000 - lr: 0.0100\n",
            "Epoch 5/10\n",
            "43/43 [==============================] - 109s 3s/step - loss: 0.0254 - accuracy: 0.9942 - val_loss: 0.1036 - val_accuracy: 0.9000 - lr: 0.0100\n",
            "Epoch 6/10\n",
            "43/43 [==============================] - 111s 3s/step - loss: 0.1077 - accuracy: 0.9767 - val_loss: 0.0015 - val_accuracy: 1.0000 - lr: 0.0100\n",
            "Epoch 7/10\n",
            "43/43 [==============================] - ETA: 0s - loss: 0.0300 - accuracy: 0.9884\n",
            "Epoch 7: ReduceLROnPlateau reducing learning rate to 0.0009999999776482583.\n",
            "43/43 [==============================] - 110s 3s/step - loss: 0.0300 - accuracy: 0.9884 - val_loss: 0.0018 - val_accuracy: 1.0000 - lr: 0.0100\n",
            "Epoch 8/10\n",
            "43/43 [==============================] - 111s 3s/step - loss: 0.0169 - accuracy: 0.9942 - val_loss: 0.0029 - val_accuracy: 1.0000 - lr: 1.0000e-03\n",
            "Epoch 9/10\n",
            "43/43 [==============================] - 111s 3s/step - loss: 0.0211 - accuracy: 0.9942 - val_loss: 0.0015 - val_accuracy: 1.0000 - lr: 1.0000e-03\n",
            "Epoch 10/10\n",
            "43/43 [==============================] - ETA: 0s - loss: 0.0174 - accuracy: 0.9942\n",
            "Epoch 10: ReduceLROnPlateau reducing learning rate to 9.999999310821295e-05.\n",
            "43/43 [==============================] - 109s 3s/step - loss: 0.0174 - accuracy: 0.9942 - val_loss: 0.0015 - val_accuracy: 1.0000 - lr: 1.0000e-03\n"
          ]
        },
        {
          "data": {
            "text/plain": [
              "<keras.callbacks.History at 0x7f80a8a9a4c0>"
            ]
          },
          "execution_count": 7,
          "metadata": {},
          "output_type": "execute_result"
        }
      ],
      "source": [
        "model.fit(data_train,validation_data=data_test,  epochs = epochs,callbacks=callbacks)\n"
      ]
    },
    {
      "cell_type": "code",
      "execution_count": null,
      "metadata": {
        "colab": {
          "base_uri": "https://localhost:8080/"
        },
        "id": "E2TNo0lYB4j1",
        "outputId": "efe0ac86-613b-4b3a-bd16-533da3d05887"
      },
      "outputs": [
        {
          "name": "stdout",
          "output_type": "stream",
          "text": [
            "1/1 [==============================] - 1s 663ms/step\n",
            "football\n",
            "[[5.1110535e-04 9.9948883e-01]]\n"
          ]
        }
      ],
      "source": [
        "from PIL import Image\n",
        "import numpy as np\n",
        "\n",
        "img = Image.open(\"/content/drive/MyDrive/AI-datasets/Ball/BallTest/easy-football.png\").convert('RGB').resize((img_size,img_size))\n",
        "img=np.asarray(img)\n",
        "predicted=model.predict(np.expand_dims(img,axis=0))\n",
        "print(list(data_train.class_indices.keys())[np.argmax(predicted)])\n",
        "print(predicted)"
      ]
    },
    {
      "cell_type": "code",
      "execution_count": null,
      "metadata": {
        "colab": {
          "base_uri": "https://localhost:8080/",
          "height": 36
        },
        "id": "B9OS3inFB5wX",
        "outputId": "2302909e-01fa-47ee-eb1e-38d8d3cdbc3f"
      },
      "outputs": [
        {
          "data": {
            "application/vnd.google.colaboratory.intrinsic+json": {
              "type": "string"
            },
            "text/plain": [
              "'/content/drive/MyDrive/AI-datasets/Ball/BallData/Onnx_Graph/model.pb'"
            ]
          },
          "execution_count": 12,
          "metadata": {},
          "output_type": "execute_result"
        }
      ],
      "source": [
        "from tensorflow.python.framework import convert_to_constants\n",
        "save_model_path=\"/content/drive/MyDrive/AI-datasets/Ball/BallData/Onnx\"\n",
        "\n",
        "@tf.function(input_signature=[tf.TensorSpec(shape=[None,224,224,3], dtype=tf.float32)])\n",
        "def to_save(x):\n",
        "    return model(x)\n",
        "f = to_save.get_concrete_function()\n",
        "constantGraph = convert_to_constants.convert_variables_to_constants_v2(f)\n",
        "tf.io.write_graph(constantGraph.graph.as_graph_def(), \"/content/drive/MyDrive/AI-datasets/Ball/BallData/Onnx_Graph\", 'model.pb') "
      ]
    },
    {
      "cell_type": "code",
      "execution_count": null,
      "metadata": {
        "colab": {
          "base_uri": "https://localhost:8080/"
        },
        "id": "cm0qNcaqB6nx",
        "outputId": "a42a520f-c06c-4b1f-aed9-f21447f421df"
      },
      "outputs": [
        {
          "name": "stderr",
          "output_type": "stream",
          "text": [
            "WARNING:absl:Found untraced functions such as _jit_compiled_convolution_op, _jit_compiled_convolution_op, _jit_compiled_convolution_op, _jit_compiled_convolution_op, _jit_compiled_convolution_op while saving (showing 5 of 13). These functions will not be directly callable after loading.\n"
          ]
        }
      ],
      "source": [
        "import os\n",
        "save_model_path=\"/content/drive/MyDrive/AI-datasets/Ball/BallData/Onnx\"\n",
        "if not os.path.isdir(save_model_path):\n",
        "      os.makedirs(save_model_path)\n",
        "\n",
        "model.save(save_model_path)"
      ]
    }
  ],
  "metadata": {
    "colab": {
      "provenance": []
    },
    "kernelspec": {
      "display_name": "Python 3",
      "name": "python3"
    },
    "language_info": {
      "name": "python"
    }
  },
  "nbformat": 4,
  "nbformat_minor": 0
}
